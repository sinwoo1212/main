{
  "metadata": {
    "kernelspec": {
      "language": "python",
      "display_name": "Python 3",
      "name": "python3"
    },
    "language_info": {
      "name": "python",
      "version": "3.10.12",
      "mimetype": "text/x-python",
      "codemirror_mode": {
        "name": "ipython",
        "version": 3
      },
      "pygments_lexer": "ipython3",
      "nbconvert_exporter": "python",
      "file_extension": ".py"
    },
    "kaggle": {
      "accelerator": "none",
      "dataSources": [
        {
          "sourceId": 10786014,
          "sourceType": "datasetVersion",
          "datasetId": 6693356
        }
      ],
      "dockerImageVersionId": 30918,
      "isInternetEnabled": false,
      "language": "python",
      "sourceType": "notebook",
      "isGpuEnabled": false
    },
    "colab": {
      "name": "notebook5ef6257a14",
      "provenance": [],
      "include_colab_link": true
    }
  },
  "nbformat_minor": 0,
  "nbformat": 4,
  "cells": [
    {
      "cell_type": "markdown",
      "metadata": {
        "id": "view-in-github",
        "colab_type": "text"
      },
      "source": [
        "<a href=\"https://colab.research.google.com/github/sinwoo1212/main/blob/main/notebook5ef6257a14.ipynb\" target=\"_parent\"><img src=\"https://colab.research.google.com/assets/colab-badge.svg\" alt=\"Open In Colab\"/></a>"
      ]
    },
    {
      "source": [
        "# IMPORTANT: RUN THIS CELL IN ORDER TO IMPORT YOUR KAGGLE DATA SOURCES,\n",
        "# THEN FEEL FREE TO DELETE THIS CELL.\n",
        "# NOTE: THIS NOTEBOOK ENVIRONMENT DIFFERS FROM KAGGLE'S PYTHON\n",
        "# ENVIRONMENT SO THERE MAY BE MISSING LIBRARIES USED BY YOUR\n",
        "# NOTEBOOK.\n",
        "import kagglehub\n",
        "anandshaw2001_top_spotify_songs_in_73_countries_path = kagglehub.dataset_download('anandshaw2001/top-spotify-songs-in-73-countries')\n",
        "\n",
        "print('Data source import complete.')\n"
      ],
      "metadata": {
        "id": "5p0OSuLwk-f4"
      },
      "cell_type": "code",
      "outputs": [],
      "execution_count": null
    },
    {
      "cell_type": "markdown",
      "source": [
        "بسم الله\n",
        "\n"
      ],
      "metadata": {
        "id": "LXGDXT_ck-f6"
      }
    },
    {
      "cell_type": "code",
      "source": [
        "import pandas as pd\n",
        "import numpy as np\n",
        "import seaborn as sns\n",
        "import matplotlib.pyplot as plt\n",
        "from sklearn.preprocessing import LabelEncoder\n",
        "from sklearn.neighbors import KNeighborsRegressor\n",
        "from sklearn.metrics import mean_squared_error, r2_score\n",
        "from sklearn.linear_model import LinearRegression\n",
        "import xgboost as xgb\n",
        "from tabulate import tabulate\n",
        "import scipy.stats as stats\n",
        "import warnings\n",
        "warnings.filterwarnings('ignore')"
      ],
      "metadata": {
        "trusted": true,
        "execution": {
          "iopub.status.busy": "2025-02-25T16:16:23.873196Z",
          "iopub.execute_input": "2025-02-25T16:16:23.873659Z",
          "iopub.status.idle": "2025-02-25T16:16:23.879899Z",
          "shell.execute_reply.started": "2025-02-25T16:16:23.873628Z",
          "shell.execute_reply": "2025-02-25T16:16:23.878561Z"
        },
        "id": "J4rsoPknk-f8"
      },
      "outputs": [],
      "execution_count": null
    },
    {
      "cell_type": "code",
      "source": [
        "df = pd.read_csv(\"/kaggle/input/top-spotify-songs-in-73-countries/Top_spotify_songs.csv\")"
      ],
      "metadata": {
        "trusted": true,
        "execution": {
          "iopub.status.busy": "2025-02-25T16:16:23.93782Z",
          "iopub.execute_input": "2025-02-25T16:16:23.938182Z",
          "iopub.status.idle": "2025-02-25T16:16:32.536604Z",
          "shell.execute_reply.started": "2025-02-25T16:16:23.938153Z",
          "shell.execute_reply": "2025-02-25T16:16:32.535407Z"
        },
        "id": "0XEn_KTfk-f9"
      },
      "outputs": [],
      "execution_count": null
    },
    {
      "cell_type": "code",
      "source": [
        "df.head()"
      ],
      "metadata": {
        "trusted": true,
        "execution": {
          "iopub.status.busy": "2025-02-25T16:16:32.53794Z",
          "iopub.execute_input": "2025-02-25T16:16:32.538239Z",
          "iopub.status.idle": "2025-02-25T16:16:32.561501Z",
          "shell.execute_reply.started": "2025-02-25T16:16:32.538213Z",
          "shell.execute_reply": "2025-02-25T16:16:32.560336Z"
        },
        "id": "z_bnQDi2k-f9"
      },
      "outputs": [],
      "execution_count": null
    },
    {
      "cell_type": "code",
      "source": [
        "df.shape"
      ],
      "metadata": {
        "trusted": true,
        "execution": {
          "iopub.status.busy": "2025-02-25T16:16:32.563929Z",
          "iopub.execute_input": "2025-02-25T16:16:32.564408Z",
          "iopub.status.idle": "2025-02-25T16:16:32.588016Z",
          "shell.execute_reply.started": "2025-02-25T16:16:32.564366Z",
          "shell.execute_reply": "2025-02-25T16:16:32.586667Z"
        },
        "id": "P6i-EHtek-f-"
      },
      "outputs": [],
      "execution_count": null
    },
    {
      "cell_type": "code",
      "source": [
        "df.duplicated().sum()"
      ],
      "metadata": {
        "trusted": true,
        "execution": {
          "iopub.status.busy": "2025-02-25T16:16:32.589913Z",
          "iopub.execute_input": "2025-02-25T16:16:32.590321Z",
          "iopub.status.idle": "2025-02-25T16:16:35.084128Z",
          "shell.execute_reply.started": "2025-02-25T16:16:32.590262Z",
          "shell.execute_reply": "2025-02-25T16:16:35.08293Z"
        },
        "id": "8XdaOvxlk-f-"
      },
      "outputs": [],
      "execution_count": null
    },
    {
      "cell_type": "code",
      "source": [
        "df.isna().sum()"
      ],
      "metadata": {
        "trusted": true,
        "execution": {
          "iopub.status.busy": "2025-02-25T16:16:35.085118Z",
          "iopub.execute_input": "2025-02-25T16:16:35.085421Z",
          "iopub.status.idle": "2025-02-25T16:16:35.751645Z",
          "shell.execute_reply.started": "2025-02-25T16:16:35.085395Z",
          "shell.execute_reply": "2025-02-25T16:16:35.750391Z"
        },
        "id": "hyM8UK_Gk-f_"
      },
      "outputs": [],
      "execution_count": null
    },
    {
      "cell_type": "code",
      "source": [
        "df.info()"
      ],
      "metadata": {
        "trusted": true,
        "execution": {
          "iopub.status.busy": "2025-02-25T16:16:35.752579Z",
          "iopub.execute_input": "2025-02-25T16:16:35.752873Z",
          "iopub.status.idle": "2025-02-25T16:16:35.763604Z",
          "shell.execute_reply.started": "2025-02-25T16:16:35.752845Z",
          "shell.execute_reply": "2025-02-25T16:16:35.762249Z"
        },
        "id": "F0qT8hOik-f_"
      },
      "outputs": [],
      "execution_count": null
    },
    {
      "cell_type": "code",
      "source": [
        "df.describe(include=\"all\")"
      ],
      "metadata": {
        "trusted": true,
        "execution": {
          "iopub.status.busy": "2025-02-25T16:16:35.76487Z",
          "iopub.execute_input": "2025-02-25T16:16:35.765191Z",
          "iopub.status.idle": "2025-02-25T16:16:38.485826Z",
          "shell.execute_reply.started": "2025-02-25T16:16:35.765166Z",
          "shell.execute_reply": "2025-02-25T16:16:38.484729Z"
        },
        "id": "9hyVj0a9k-gA"
      },
      "outputs": [],
      "execution_count": null
    },
    {
      "cell_type": "code",
      "source": [
        "numeric_df = df.select_dtypes(include=[np.number])\n",
        "plt.figure(figsize=(10, 8))\n",
        "sns.heatmap(numeric_df.corr(), annot=True, cmap='coolwarm')\n",
        "plt.title('Correlation Heatmap')\n",
        "plt.show()"
      ],
      "metadata": {
        "trusted": true,
        "execution": {
          "iopub.status.busy": "2025-02-25T16:17:19.494008Z",
          "iopub.execute_input": "2025-02-25T16:17:19.494427Z",
          "iopub.status.idle": "2025-02-25T16:17:22.414984Z",
          "shell.execute_reply.started": "2025-02-25T16:17:19.494393Z",
          "shell.execute_reply": "2025-02-25T16:17:22.413687Z"
        },
        "id": "JCWLIR_ok-gA"
      },
      "outputs": [],
      "execution_count": null
    },
    {
      "cell_type": "code",
      "source": [
        "df.describe().T.plot(kind='bar')\n"
      ],
      "metadata": {
        "trusted": true,
        "execution": {
          "iopub.status.busy": "2025-02-25T16:17:42.214089Z",
          "iopub.execute_input": "2025-02-25T16:17:42.214462Z",
          "iopub.status.idle": "2025-02-25T16:17:44.076199Z",
          "shell.execute_reply.started": "2025-02-25T16:17:42.214427Z",
          "shell.execute_reply": "2025-02-25T16:17:44.075083Z"
        },
        "id": "6ZLRY9bpk-gB"
      },
      "outputs": [],
      "execution_count": null
    }
  ]
}